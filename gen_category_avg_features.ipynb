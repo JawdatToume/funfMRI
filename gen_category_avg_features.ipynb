{
 "cells": [
  {
   "cell_type": "code",
   "execution_count": 100,
   "outputs": [
    {
     "data": {
      "text/plain": "               img_id             file_name category_id img_name  \\\n0      1518878.010042  n01518878_10042.JPEG    01518878    10042   \n1      1518878.012028  n01518878_12028.JPEG    01518878    12028   \n2      1518878.014075  n01518878_14075.JPEG    01518878    14075   \n3       1518878.01491  n01518878_14910.JPEG    01518878    14910   \n4      1518878.005958   n01518878_5958.JPEG    01518878     5958   \n...               ...                   ...         ...      ...   \n1195  13111881.028475  n13111881_28475.JPEG    13111881    28475   \n1196  13111881.006054   n13111881_6054.JPEG    13111881     6054   \n1197   13111881.00656   n13111881_6560.JPEG    13111881     6560   \n1198  13111881.007817   n13111881_7817.JPEG    13111881     7817   \n1199   13111881.00917   n13111881_9170.JPEG    13111881     9170   \n\n     feature_dict_keys  \n0       01518878_10042  \n1       01518878_12028  \n2       01518878_14075  \n3       01518878_14910  \n4        01518878_5958  \n...                ...  \n1195    13111881_28475  \n1196     13111881_6054  \n1197     13111881_6560  \n1198     13111881_7817  \n1199     13111881_9170  \n\n[1200 rows x 5 columns]",
      "text/html": "<div>\n<style scoped>\n    .dataframe tbody tr th:only-of-type {\n        vertical-align: middle;\n    }\n\n    .dataframe tbody tr th {\n        vertical-align: top;\n    }\n\n    .dataframe thead th {\n        text-align: right;\n    }\n</style>\n<table border=\"1\" class=\"dataframe\">\n  <thead>\n    <tr style=\"text-align: right;\">\n      <th></th>\n      <th>img_id</th>\n      <th>file_name</th>\n      <th>category_id</th>\n      <th>img_name</th>\n      <th>feature_dict_keys</th>\n    </tr>\n  </thead>\n  <tbody>\n    <tr>\n      <th>0</th>\n      <td>1518878.010042</td>\n      <td>n01518878_10042.JPEG</td>\n      <td>01518878</td>\n      <td>10042</td>\n      <td>01518878_10042</td>\n    </tr>\n    <tr>\n      <th>1</th>\n      <td>1518878.012028</td>\n      <td>n01518878_12028.JPEG</td>\n      <td>01518878</td>\n      <td>12028</td>\n      <td>01518878_12028</td>\n    </tr>\n    <tr>\n      <th>2</th>\n      <td>1518878.014075</td>\n      <td>n01518878_14075.JPEG</td>\n      <td>01518878</td>\n      <td>14075</td>\n      <td>01518878_14075</td>\n    </tr>\n    <tr>\n      <th>3</th>\n      <td>1518878.01491</td>\n      <td>n01518878_14910.JPEG</td>\n      <td>01518878</td>\n      <td>14910</td>\n      <td>01518878_14910</td>\n    </tr>\n    <tr>\n      <th>4</th>\n      <td>1518878.005958</td>\n      <td>n01518878_5958.JPEG</td>\n      <td>01518878</td>\n      <td>5958</td>\n      <td>01518878_5958</td>\n    </tr>\n    <tr>\n      <th>...</th>\n      <td>...</td>\n      <td>...</td>\n      <td>...</td>\n      <td>...</td>\n      <td>...</td>\n    </tr>\n    <tr>\n      <th>1195</th>\n      <td>13111881.028475</td>\n      <td>n13111881_28475.JPEG</td>\n      <td>13111881</td>\n      <td>28475</td>\n      <td>13111881_28475</td>\n    </tr>\n    <tr>\n      <th>1196</th>\n      <td>13111881.006054</td>\n      <td>n13111881_6054.JPEG</td>\n      <td>13111881</td>\n      <td>6054</td>\n      <td>13111881_6054</td>\n    </tr>\n    <tr>\n      <th>1197</th>\n      <td>13111881.00656</td>\n      <td>n13111881_6560.JPEG</td>\n      <td>13111881</td>\n      <td>6560</td>\n      <td>13111881_6560</td>\n    </tr>\n    <tr>\n      <th>1198</th>\n      <td>13111881.007817</td>\n      <td>n13111881_7817.JPEG</td>\n      <td>13111881</td>\n      <td>7817</td>\n      <td>13111881_7817</td>\n    </tr>\n    <tr>\n      <th>1199</th>\n      <td>13111881.00917</td>\n      <td>n13111881_9170.JPEG</td>\n      <td>13111881</td>\n      <td>9170</td>\n      <td>13111881_9170</td>\n    </tr>\n  </tbody>\n</table>\n<p>1200 rows × 5 columns</p>\n</div>"
     },
     "execution_count": 100,
     "metadata": {},
     "output_type": "execute_result"
    }
   ],
   "source": [
    "import pandas as pd\n",
    "df=pd.read_csv(\"/Users/srinjoybhuiya/PycharmProjects/funfMRI/imagenet_kamitani_subset/image_training_id.csv\", header=None).astype(str)\n",
    "df.columns=[\"img_id\", \"file_name\"]\n",
    "df[\"category_id\"]=df[\"file_name\"].apply(lambda x: x.split(\"_\")[0]).apply(lambda x: x[1:])\n",
    "df[\"img_name\"]=df[\"file_name\"].apply(lambda x: x.split(\"_\")[1][:-5])\n",
    "df[\"feature_dict_keys\"]=df[\"category_id\"]+\"_\"+df[\"img_name\"]\n",
    "\n",
    "\n",
    "train_category_ids=df[\"category_id\"].unique().astype(list)\n",
    "\n",
    "df"
   ],
   "metadata": {
    "collapsed": false,
    "ExecuteTime": {
     "end_time": "2023-11-18T21:38:45.606192Z",
     "start_time": "2023-11-18T21:38:45.586348Z"
    }
   },
   "id": "c76e34d95e02b3bf"
  },
  {
   "cell_type": "code",
   "execution_count": 101,
   "id": "initial_id",
   "metadata": {
    "collapsed": true,
    "ExecuteTime": {
     "end_time": "2023-11-18T21:38:45.827048Z",
     "start_time": "2023-11-18T21:38:45.813234Z"
    }
   },
   "outputs": [],
   "source": []
  },
  {
   "cell_type": "code",
   "execution_count": 155,
   "outputs": [
    {
     "name": "stdout",
     "output_type": "stream",
     "text": [
      "['convnext_features_train.pt', 'alexnet_dict_train.pt']\n",
      "convnext_features_train.pt\n",
      "################## convnext train ######################\n",
      "/Users/srinjoybhuiya/PycharmProjects/funfMRI/cnn_feature_convnext_and_alexnet/convnext_features_train_avg_img_features.pt\n",
      "alexnet_dict_train.pt\n",
      "################## alexnet train ######################\n",
      "/Users/srinjoybhuiya/PycharmProjects/funfMRI/cnn_feature_convnext_and_alexnet/alexnet_dict_train_avg_img_features.pt\n",
      "###################end of processing###################\n"
     ]
    }
   ],
   "source": [
    "from tensordict import TensorDict\n",
    "import os\n",
    "import torch\n",
    "features_root=\"/Users/srinjoybhuiya/PycharmProjects/funfMRI/cnn_feature_convnext_and_alexnet/\"\n",
    "feature_files=os.listdir(features_root)\n",
    "print(feature_files)\n",
    "for file in feature_files:\n",
    "    avg_img_features_file_name=features_root+file[:-3]+\"_avg_img_features.pt\"\n",
    "    file_count=0\n",
    "    file_meta_data=file[:-3].split(\"_\")\n",
    "    print(file)\n",
    "    model_name=file_meta_data[0]\n",
    "    train_or_test=file_meta_data[2]\n",
    "    print(\"##################\",model_name, train_or_test,\"######################\")\n",
    "    full_file_name=features_root+file\n",
    "    features=torch.load(full_file_name)\n",
    "    category_wise_avg_features=dict()\n",
    "    for category in train_category_ids:\n",
    "        avg_img_features=dict()\n",
    "        #print(\"##################\",category,\"######################\")\n",
    "        for img_name in features.keys():\n",
    "            num_img=0\n",
    "            img_features=features[img_name]\n",
    "            \n",
    "            #print(category,img_name.split(\"_\")[0])\n",
    "            if category==img_name.split(\"_\")[0]:\n",
    "                file_count+=1\n",
    "                #print(\"adding features of img\",img_name,\"to category\",category,\"features\")\n",
    "                \n",
    "                for key in img_features.keys():\n",
    "                    #print(\"\\t\",\"adding layer\",key,\"for img\",img_name,\"to category\",category,\"features\")\n",
    "                    if key not in avg_img_features.keys():\n",
    "                        #print(\"\\t \\t previously features for this layer were not seen for the category\")\n",
    "                        avg_img_features[key]=img_features[key]\n",
    "                        num_img+=1\n",
    "                    else:\n",
    "                        #print(\"\\t \\t previously features for this layer were seen for the category soo adding up with prev features\")\n",
    "                        num_img+=1\n",
    "                        avg_img_features[key]=avg_img_features[key]+(1/num_img)*(img_features[key]-avg_img_features[key])\n",
    "                    #print(\"num_img\",num_img)\n",
    "                \n",
    "                    \n",
    "            \n",
    "        category_wise_avg_features[category]=avg_img_features\n",
    "    \n",
    "    avg_category_tensors =TensorDict(category_wise_avg_features,batch_size=1)\n",
    "    print(avg_img_features_file_name)\n",
    "    torch.save(avg_category_tensors,avg_img_features_file_name)     \n",
    "                    \n",
    "print(\"###################end of processing###################\")                  \n",
    "\n",
    "         \n",
    "        "
   ],
   "metadata": {
    "collapsed": false,
    "ExecuteTime": {
     "end_time": "2023-11-19T00:40:09.269394Z",
     "start_time": "2023-11-19T00:40:07.848794Z"
    }
   },
   "id": "1e1e1b16033511ed"
  },
  {
   "cell_type": "code",
   "execution_count": 136,
   "outputs": [
    {
     "name": "stdout",
     "output_type": "stream",
     "text": [
      "1200\n",
      "dict_keys(['01518878', '01639765', '01645776', '01664990', '01704323', '01726692', '01768244', '01770393', '01772222', '01784675', '01787835', '01833805', '01855672', '01877134', '01944390', '01963571', '01970164', '02005790', '02054036', '02055803', '02068974', '02084071', '02090827', '02131653', '02226429', '02233338', '02236241', '02317335', '02346627', '02374451', '02391049', '02432983', '02439033', '02445715', '02472293', '02480855', '02481823', '02503517', '02508213', '02692877', '02766534', '02769748', '02799175', '02800213', '02802215', '02808440', '02814860', '02841315', '02843158', '02882647', '02885462', '02943871', '02974003', '02998003', '03038480', '03063599', '03079230', '03085013', '03085219', '03187595', '03209910', '03255030', '03261776', '03335030', '03345487', '03359137', '03394916', '03397947', '03400231', '03425413', '03436182', '03445777', '03467796', '03472535', '03483823', '03494278', '03496296', '03512147', '03541923', '03543603', '03544143', '03602883', '03607659', '03609235', '03612010', '03623556', '03642806', '03646296', '03649909', '03665924', '03721384', '03743279', '03746005', '03760671', '03790512', '03792782', '03793489', '03815615', '03837869', '03886762', '03918737', '03924679', '03950228', '03982430', '04009552', '04044716', '04070727', '04086273', '04090263', '04113406', '04123740', '04146614', '04154565', '04168199', '04180888', '04197391', '04225987', '04233124', '04254680', '04255586', '04272054', '04273569', '04284002', '04313503', '04320973', '04373894', '04376876', '04398044', '04401680', '04409515', '04409806', '04412416', '04419073', '04442312', '04442441', '04477387', '04482393', '04497801', '04555897', '04587559', '04591713', '04612026', '07734017', '07734744', '07756951', '07758680', '11978233', '12582231', '12596148', '13111881'])\n",
      "8\n",
      "8\n",
      "8\n",
      "8\n",
      "8\n",
      "8\n",
      "8\n",
      "8\n",
      "8\n",
      "8\n",
      "8\n",
      "8\n",
      "8\n",
      "8\n",
      "8\n",
      "8\n",
      "8\n",
      "8\n",
      "8\n",
      "8\n",
      "8\n",
      "8\n",
      "8\n",
      "8\n",
      "8\n",
      "8\n",
      "8\n",
      "8\n",
      "8\n",
      "8\n",
      "8\n",
      "8\n",
      "8\n",
      "8\n",
      "8\n",
      "8\n",
      "8\n",
      "8\n",
      "8\n",
      "8\n",
      "8\n",
      "8\n",
      "8\n",
      "8\n",
      "8\n",
      "8\n",
      "8\n",
      "8\n",
      "8\n",
      "8\n",
      "8\n",
      "8\n",
      "8\n",
      "8\n",
      "8\n",
      "8\n",
      "8\n",
      "8\n",
      "8\n",
      "8\n",
      "8\n",
      "8\n",
      "8\n",
      "8\n",
      "8\n",
      "8\n",
      "8\n",
      "8\n",
      "8\n",
      "8\n",
      "8\n",
      "8\n",
      "8\n",
      "8\n",
      "8\n",
      "8\n",
      "8\n",
      "8\n",
      "8\n",
      "8\n",
      "8\n",
      "8\n",
      "8\n",
      "8\n",
      "8\n",
      "8\n",
      "8\n",
      "8\n",
      "8\n",
      "8\n",
      "8\n",
      "8\n",
      "8\n",
      "8\n",
      "8\n",
      "8\n",
      "8\n",
      "8\n",
      "8\n",
      "8\n",
      "8\n",
      "8\n",
      "8\n",
      "8\n",
      "8\n",
      "8\n",
      "8\n",
      "8\n",
      "8\n",
      "8\n",
      "8\n",
      "8\n",
      "8\n",
      "8\n",
      "8\n",
      "8\n",
      "8\n",
      "8\n",
      "8\n",
      "8\n",
      "8\n",
      "8\n",
      "8\n",
      "8\n",
      "8\n",
      "8\n",
      "8\n",
      "8\n",
      "8\n",
      "8\n",
      "8\n",
      "8\n",
      "8\n",
      "8\n",
      "8\n",
      "8\n",
      "8\n",
      "8\n",
      "8\n",
      "8\n",
      "8\n",
      "8\n",
      "8\n",
      "8\n",
      "8\n",
      "8\n",
      "8\n",
      "8\n",
      "8\n",
      "8\n"
     ]
    }
   ],
   "source": [],
   "metadata": {
    "collapsed": false,
    "ExecuteTime": {
     "end_time": "2023-11-19T00:11:08.928591Z",
     "start_time": "2023-11-19T00:11:08.824200Z"
    }
   },
   "id": "d18449de8eba5af6"
  },
  {
   "cell_type": "code",
   "execution_count": 129,
   "outputs": [
    {
     "ename": "SyntaxError",
     "evalue": "invalid syntax (1665195085.py, line 2)",
     "output_type": "error",
     "traceback": [
      "\u001B[0;36m  Cell \u001B[0;32mIn[129], line 2\u001B[0;36m\u001B[0m\n\u001B[0;31m    for i in category_wise_avg_features.keys():\u001B[0m\n\u001B[0m                                              ^\u001B[0m\n\u001B[0;31mSyntaxError\u001B[0m\u001B[0;31m:\u001B[0m invalid syntax\n"
     ]
    }
   ],
   "source": [
    "\n",
    "    "
   ],
   "metadata": {
    "collapsed": false,
    "ExecuteTime": {
     "end_time": "2023-11-19T00:08:37.521552Z",
     "start_time": "2023-11-19T00:08:37.498930Z"
    }
   },
   "id": "fa8399247bffe44d"
  },
  {
   "cell_type": "code",
   "execution_count": 118,
   "outputs": [],
   "source": [],
   "metadata": {
    "collapsed": false,
    "ExecuteTime": {
     "end_time": "2023-11-18T21:58:26.554628Z",
     "start_time": "2023-11-18T21:58:26.461040Z"
    }
   },
   "id": "c8b111fc1e6a44bc"
  },
  {
   "cell_type": "code",
   "execution_count": null,
   "outputs": [],
   "source": [],
   "metadata": {
    "collapsed": false
   },
   "id": "fb9e9a31c4c34bc5"
  }
 ],
 "metadata": {
  "kernelspec": {
   "display_name": "Python 3",
   "language": "python",
   "name": "python3"
  },
  "language_info": {
   "codemirror_mode": {
    "name": "ipython",
    "version": 2
   },
   "file_extension": ".py",
   "mimetype": "text/x-python",
   "name": "python",
   "nbconvert_exporter": "python",
   "pygments_lexer": "ipython2",
   "version": "2.7.6"
  }
 },
 "nbformat": 4,
 "nbformat_minor": 5
}
